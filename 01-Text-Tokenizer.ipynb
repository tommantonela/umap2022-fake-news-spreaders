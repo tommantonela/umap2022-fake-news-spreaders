{
 "cells": [
  {
   "cell_type": "code",
   "execution_count": 1,
   "id": "electronic-burning",
   "metadata": {},
   "outputs": [],
   "source": [
    "from transformers import BertTokenizer, TFBertModel\n",
    "from pymongo import MongoClient, ASCENDING, DESCENDING, HASHED\n",
    "from tqdm.notebook import tqdm\n",
    "\n",
    "conn = MongoClient()\n",
    "\n",
    "fake_fibvid = conn.fake_fibvid\n",
    "tweets  = fake_fibvid.tweets\n",
    "\n",
    "process_fibvid = conn.process_fibvid\n",
    "tweets_tokens  = process_fibvid.tweets_tokens\n",
    "\n",
    "tweets_tokens.create_index([('num_tokens', ASCENDING)])\n",
    "tweets_tokens.create_index([('created', ASCENDING)])\n",
    "tweets_tokens.create_index([('tweetId', HASHED)])\n",
    "tweets_tokens.create_index([('userId', HASHED)])\n",
    "\n",
    "tokenizer = BertTokenizer.from_pretrained('bert-base-uncased')"
   ]
  },
  {
   "cell_type": "code",
   "execution_count": 3,
   "id": "primary-perfume",
   "metadata": {},
   "outputs": [
    {
     "data": {
      "application/vnd.jupyter.widget-view+json": {
       "model_id": "ce8926f9e3c74081ba191eb464128b15",
       "version_major": 2,
       "version_minor": 0
      },
      "text/plain": [
       "  0%|          | 0/299118 [00:00<?, ?it/s]"
      ]
     },
     "metadata": {},
     "output_type": "display_data"
    }
   ],
   "source": [
    "total = tweets.count_documents({})\n",
    "\n",
    "to_store = []\n",
    "\n",
    "for tweet in tqdm(tweets.find(), total=total):\n",
    "    tokens = tokenizer(tweet['text'], truncation=True)\n",
    "    tokens['num_tokens'] = len(tokens['input_ids'])\n",
    "    tokens['created'] = tweet['created']\n",
    "    tokens['userId'] = tweet['userId']\n",
    "    tokens['tweetId'] = tweet['tweetId']\n",
    "    to_store.append(tokens)\n",
    "    if len(to_store) > 10000:\n",
    "        tweets_tokens.insert_many(to_store)\n",
    "        to_store = []\n",
    "        \n",
    "\n",
    "if len(to_store) > 0:\n",
    "    tweets_tokens.insert_many(to_store)\n",
    "    to_store = []"
   ]
  },
  {
   "cell_type": "code",
   "execution_count": null,
   "id": "national-laugh",
   "metadata": {},
   "outputs": [],
   "source": []
  }
 ],
 "metadata": {
  "kernelspec": {
   "display_name": "Python 3",
   "language": "python",
   "name": "python3"
  },
  "language_info": {
   "codemirror_mode": {
    "name": "ipython",
    "version": 3
   },
   "file_extension": ".py",
   "mimetype": "text/x-python",
   "name": "python",
   "nbconvert_exporter": "python",
   "pygments_lexer": "ipython3",
   "version": "3.8.5"
  }
 },
 "nbformat": 4,
 "nbformat_minor": 5
}
