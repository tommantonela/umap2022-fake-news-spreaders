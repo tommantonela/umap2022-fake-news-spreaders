{
 "cells": [
  {
   "cell_type": "code",
   "execution_count": 1,
   "id": "electronic-burning",
   "metadata": {},
   "outputs": [],
   "source": [
    "\n",
    "from pymongo import MongoClient, ASCENDING, DESCENDING, HASHED\n",
    "from tqdm.notebook import tqdm\n",
    "import numpy as np\n",
    "import torch\n",
    "\n"
   ]
  },
  {
   "cell_type": "code",
   "execution_count": 2,
   "id": "settled-daily",
   "metadata": {},
   "outputs": [
    {
     "data": {
      "text/plain": [
       "'userId_hashed'"
      ]
     },
     "execution_count": 2,
     "metadata": {},
     "output_type": "execute_result"
    }
   ],
   "source": [
    "conn = MongoClient()\n",
    "\n",
    "process_fibvid = conn.process_fibvid\n",
    "tweets_tokens  = process_fibvid.tweets_tokens\n",
    "tweets_bert  = process_fibvid.tweets_bert\n",
    "tweets_bert_fast  = process_fibvid.tweets_bert_fast\n",
    "\n",
    "tweets_bert_fast.create_index([('num_tokens', ASCENDING)])\n",
    "tweets_bert_fast.create_index([('created', ASCENDING)])\n",
    "tweets_bert_fast.create_index([('tweetId', HASHED)])\n",
    "tweets_bert_fast.create_index([('userId', HASHED)])"
   ]
  },
  {
   "cell_type": "code",
   "execution_count": 3,
   "id": "primary-perfume",
   "metadata": {},
   "outputs": [
    {
     "data": {
      "application/vnd.jupyter.widget-view+json": {
       "model_id": "bcae264134674e52b80c82f22abd7740",
       "version_major": 2,
       "version_minor": 0
      },
      "text/plain": [
       "  0%|          | 0/299118 [00:00<?, ?it/s]"
      ]
     },
     "metadata": {},
     "output_type": "display_data"
    }
   ],
   "source": [
    "total = tweets_tokens.count_documents({})\n",
    "\n",
    "DB_BATCH_SIZE = 500\n",
    "db_batch = []\n",
    "\n",
    "with conn.start_session() as session: \n",
    "    for tweet in tqdm(tweets_bert.find(no_cursor_timeout=True, \n",
    "                                        session=session).sort([('num_tokens', DESCENDING)]), total=total):\n",
    "        del tweet['last_hidden_state']\n",
    "        db_batch.append(tweet)\n",
    "        if len(db_batch) > DB_BATCH_SIZE:\n",
    "            tweets_bert_fast.insert_many(db_batch)\n",
    "            db_batch = []\n",
    "\n",
    "\n",
    "if len(db_batch) > 0:\n",
    "    tweets_bert_fast.insert_many(db_batch)\n",
    "    db_batch = []"
   ]
  },
  {
   "cell_type": "code",
   "execution_count": 4,
   "id": "corresponding-supply",
   "metadata": {},
   "outputs": [],
   "source": [
    "#db_batch[0].keys()"
   ]
  },
  {
   "cell_type": "code",
   "execution_count": null,
   "id": "dense-softball",
   "metadata": {},
   "outputs": [],
   "source": []
  }
 ],
 "metadata": {
  "kernelspec": {
   "display_name": "Python 3 (ipykernel)",
   "language": "python",
   "name": "python3"
  },
  "language_info": {
   "codemirror_mode": {
    "name": "ipython",
    "version": 3
   },
   "file_extension": ".py",
   "mimetype": "text/x-python",
   "name": "python",
   "nbconvert_exporter": "python",
   "pygments_lexer": "ipython3",
   "version": "3.9.7"
  }
 },
 "nbformat": 4,
 "nbformat_minor": 5
}
